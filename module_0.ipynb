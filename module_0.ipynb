{
 "cells": [
  {
   "cell_type": "code",
   "execution_count": 300,
   "metadata": {},
   "outputs": [],
   "source": [
    "#Подключаем библиотеки\n",
    "import numpy as np\n",
    "import pandas as pd\n",
    "#Фиксируем счетчик для успешного повторения результата\n",
    "np.random.seed(1)"
   ]
  },
  {
   "cell_type": "code",
   "execution_count": 301,
   "metadata": {},
   "outputs": [],
   "source": [
    "#Настройки \"игры\"\n",
    "left = 1                                          #Минимальное число\n",
    "right = 100                                       #Максимальное число\n",
    "N_try = 2500                                      #Количество попыток\n",
    "#Прочие операции\n",
    "right += 1"
   ]
  },
  {
   "cell_type": "code",
   "execution_count": 302,
   "metadata": {},
   "outputs": [],
   "source": [
    "#Предсказать число (версия 1)\n",
    "def predict_number_v1(number, Info=True):\n",
    "    \"\"\"\n",
    "    Алгоритм предсказания числа\n",
    "    number - число, которое необходимо предсказать\n",
    "    Info - вывод информации в процессе поиска, если правда\n",
    "    \"\"\"\n",
    "    count = 0                                     #Счетчик числа попыток\n",
    "    predict = np.random.randint(left,right)       #Случайное предполагаемое число\n",
    "    while True:                                   #Бесконечный цикл пока не угадаем число\n",
    "        count += 1                                #Увеличиваем число попыток\n",
    "        if predict > number:                      #Если предполагаемое число больше загаданного\n",
    "            predict -= 1\n",
    "        elif predict < number:                    #Если предполагаемое число меньше загаданного\n",
    "            predict += 1\n",
    "        else:                                     #Если предполагаемое число равно загаданному\n",
    "            return count\n",
    "        #Вывод информации\n",
    "        if Info:\n",
    "            print('Попытка {}: Загаданное число: {}. Предсказанное число: {}. Шаг: {}.'.format(count, number, predict, step))\n",
    "\n",
    "#Предсказать число (версия 2)\n",
    "def predict_number_v2(number, step=26, k_step=0.53, Info=True):\n",
    "    \"\"\"\n",
    "    Алгоритм предсказания числа\n",
    "    number - число, которое необходимо предсказать\n",
    "    step - шаг, с которым алгоритм приближает предполагаемое число к загаданному\n",
    "    k_step - коэффициент уменьшения шага step\n",
    "    Info - вывод информации в процессе поиска, если правда\n",
    "    \"\"\"\n",
    "    count = 0                                     #Счетчик числа попыток\n",
    "    sign_count = [0, 0]\n",
    "    predict = np.random.randint(left,right)       #Случайное предполагаемое число\n",
    "    while True:                                   #Бесконечный цикл пока не угадаем число\n",
    "        count += 1                                #Увеличиваем число попыток\n",
    "        if sign_count[0] != sign_count[1]:        #Если знак отклонения отличается\n",
    "            step = int(step * k_step)             #Уменьшаем шаг и приводим его к целому числу\n",
    "            if step < 1:\n",
    "                k_step = 1\n",
    "                step = 1\n",
    "        sign_count[0] = sign_count[1]             #Сохранение знака отклонения с предыдущего шага\n",
    "        if predict > number:                      #Если предполагаемое число больше загаданного\n",
    "            sign_count[1] = 1                     #Знак отклонения положителен\n",
    "            predict -= step\n",
    "        elif predict < number:                    #Если предполагаемое число меньше загаданного\n",
    "            sign_count[1] = -1                    #Знак отклонения отрицателен\n",
    "            predict += step\n",
    "        else:                                     #Если предполагаемое число равно загаданному\n",
    "            return count\n",
    "        #Вывод информации\n",
    "        if Info:\n",
    "            print('Попытка {}: Загаданное число: {}. Предсказанное число: {}. Шаг: {}.'.format(count, number, predict, step))\n",
    "        \n",
    "#Загадать и предсказать число\n",
    "def guess_and_predict(algo, Info=True):\n",
    "    \"\"\"\n",
    "    Функция для загадывания и предсказывания числа\n",
    "    algo - алгоритм, по которому ведется предсказания числа\n",
    "    Info - вывод информации в процессе поиска, если правда\n",
    "    \"\"\"\n",
    "    number = np.random.randint(left,right)        #Загадываем число\n",
    "    count = algo(number, Info=Info)                 #Предсказываем число за число попыток count\n",
    "    #Вывод результата\n",
    "    if Info:\n",
    "        print(\"Вы угадали число {} за {} попыток.\".format(number,count))\n",
    "    return count"
   ]
  },
  {
   "cell_type": "code",
   "execution_count": 303,
   "metadata": {},
   "outputs": [
    {
     "name": "stdout",
     "output_type": "stream",
     "text": [
      "Оптимальные параметры: Шаг: 26.0. К-т уменьшения шага: 0.53.\n"
     ]
    }
   ],
   "source": [
    "'''\n",
    "Тест второго алгоритма на оптимальные его параметры\n",
    "'''\n",
    "#Задаем массив с варьируемыми параметрами\n",
    "mas_step = [[i, j*0.01] for i in range(20,41,1) for j in range (30,55,1)]\n",
    "#Создаем пустой список для числа попыток\n",
    "res = []\n",
    "#Запускаем цикл\n",
    "for step, k_step in mas_step:\n",
    "    #Создаем промежуточную функцию\n",
    "    def sub_func(number,Info=False):\n",
    "        return predict_number_v2(number,step=step,k_step=k_step,Info=False)\n",
    "    #Сохраняем число попыток при заданных параметрах алгоритма и проводим вычисления N_try раз\n",
    "    mas_count = []\n",
    "    for i in range(N_try):\n",
    "        mas_count += [guess_and_predict(sub_func,Info=False)]\n",
    "    #Вычисляем среднее и сохраняем в список\n",
    "    res += [[step, k_step, np.mean(mas_count)]]\n",
    "#Переводим список в DataFrame\n",
    "res = pd.DataFrame(res)\n",
    "#Определяем индекс элемента, имеющего минимальное число попыток\n",
    "index_min = res.idxmin()[2]\n",
    "#Сохраняем оптимальные параметры алгоритма, при которых число попыток минимально\n",
    "mas_opt = res.iloc[index_min,0:2]\n",
    "#Вывод результата\n",
    "print('Оптимальные параметры: Шаг: {}. К-т уменьшения шага: {}.'.format(mas_opt[0],mas_opt[1]))"
   ]
  },
  {
   "cell_type": "code",
   "execution_count": 304,
   "metadata": {},
   "outputs": [
    {
     "name": "stdout",
     "output_type": "stream",
     "text": [
      "Версия алгоритма 1: Среднее значение числа попыток: 34.6632.\n",
      "Версия алгоритма 2: Среднее значение числа попыток: 7.5112.\n"
     ]
    }
   ],
   "source": [
    "'''\n",
    "Сравнение двух алгоритмов\n",
    "'''\n",
    "#Создаем пустой список для хранения числа попыток\n",
    "res = []\n",
    "#Запускаем цикл\n",
    "res = [[guess_and_predict(predict_number_v1,Info=False), guess_and_predict(predict_number_v2,Info=False)] for i in range(N_try)]\n",
    "#Создаем DataFrame для хранения данных\n",
    "res = pd.DataFrame(res, columns=['count v1','count v2'])\n",
    "#Среднее значение\n",
    "res_mean = res.mean()\n",
    "#Вывод результата\n",
    "print('Версия алгоритма 1: Среднее значение числа попыток: {}.'.format(res_mean[0]))\n",
    "print('Версия алгоритма 2: Среднее значение числа попыток: {}.'.format(res_mean[1]))"
   ]
  },
  {
   "cell_type": "code",
   "execution_count": 305,
   "metadata": {},
   "outputs": [
    {
     "name": "stdout",
     "output_type": "stream",
     "text": [
      "Попытка 1: Загаданное число: 76. Предсказанное число: 83. Шаг: 26.\n",
      "Попытка 2: Загаданное число: 76. Предсказанное число: 70. Шаг: 13.\n",
      "Попытка 3: Загаданное число: 76. Предсказанное число: 76. Шаг: 6.\n",
      "Вы угадали число 76 за 4 попыток.\n"
     ]
    }
   ],
   "source": [
    "'''\n",
    "Результат\n",
    "'''\n",
    "count = guess_and_predict(predict_number_v2)"
   ]
  }
 ],
 "metadata": {
  "kernelspec": {
   "display_name": "Python 3",
   "language": "python",
   "name": "python3"
  },
  "language_info": {
   "codemirror_mode": {
    "name": "ipython",
    "version": 3
   },
   "file_extension": ".py",
   "mimetype": "text/x-python",
   "name": "python",
   "nbconvert_exporter": "python",
   "pygments_lexer": "ipython3",
   "version": "3.7.6"
  }
 },
 "nbformat": 4,
 "nbformat_minor": 4
}
